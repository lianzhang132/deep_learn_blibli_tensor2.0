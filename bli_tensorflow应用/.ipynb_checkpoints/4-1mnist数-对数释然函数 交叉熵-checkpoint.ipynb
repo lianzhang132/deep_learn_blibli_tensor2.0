{
 "cells": [
  {
   "cell_type": "code",
   "execution_count": 3,
   "metadata": {},
   "outputs": [],
   "source": [
    "import tensorflow as tf\n",
    "from tensorflow.examples.tutorials.mnist import input_data"
   ]
  },
  {
   "cell_type": "code",
   "execution_count": 14,
   "metadata": {},
   "outputs": [
    {
     "name": "stdout",
     "output_type": "stream",
     "text": [
      "Extracting MNIST_data/train-images-idx3-ubyte.gz\n",
      "Extracting MNIST_data/train-labels-idx1-ubyte.gz\n",
      "Extracting MNIST_data/t10k-images-idx3-ubyte.gz\n",
      "Extracting MNIST_data/t10k-labels-idx1-ubyte.gz\n",
      "ITER0,Testing accuracy0.8307\n",
      "ITER1,Testing accuracy0.8705\n",
      "ITER2,Testing accuracy0.8816\n",
      "ITER3,Testing accuracy0.8884\n",
      "ITER4,Testing accuracy0.8944\n",
      "ITER5,Testing accuracy0.897\n",
      "ITER6,Testing accuracy0.8999\n",
      "ITER7,Testing accuracy0.9019\n",
      "ITER8,Testing accuracy0.9034\n",
      "ITER9,Testing accuracy0.9046\n",
      "ITER10,Testing accuracy0.9064\n",
      "ITER11,Testing accuracy0.9065\n",
      "ITER12,Testing accuracy0.9078\n",
      "ITER13,Testing accuracy0.9094\n",
      "ITER14,Testing accuracy0.91\n",
      "ITER15,Testing accuracy0.9109\n",
      "ITER16,Testing accuracy0.9117\n",
      "ITER17,Testing accuracy0.9121\n",
      "ITER18,Testing accuracy0.9126\n",
      "ITER19,Testing accuracy0.9128\n",
      "ITER20,Testing accuracy0.9142\n"
     ]
    }
   ],
   "source": [
    "#载入数据集\n",
    "mnist = input_data.read_data_sets(\"MNIST_data/\",one_hot=True)\n",
    "#计算每个批次的大小\n",
    "batch_size = 100\n",
    "#计算总共的批次\n",
    "n_batch = mnist.train.num_examples//batch_size\n",
    "\n",
    "#定义两个placeholder\n",
    "x = tf.placeholder(tf.float32,[None,784])\n",
    "y = tf.placeholder(tf.float32,[None,10])\n",
    "\n",
    "#创建一个简单地神经网络\n",
    "W = tf.Variable(tf.zeros([784,10]))\n",
    "b = tf.Variable(tf.zeros([10]))\n",
    "prediction = tf.nn.softmax(tf.matmul(x,W)+b)\n",
    "\n",
    "#二次代价函数\n",
    "loss = tf.reduce_mean(tf.square(y-prediction))\n",
    "\n",
    "#使用梯度下降法\n",
    "train_step = tf.train.GradientDescentOptimizer(0.2).minimize(loss)\n",
    "\n",
    "#初始化变量\n",
    "init = tf.global_variables_initializer()\n",
    "\n",
    "#结果存放在一个布尔型列表中\n",
    "#argmax 返回一维向量中最大的值所在位置\n",
    "correct_prediction = tf.equal(tf.argmax(y,1),tf.argmax(prediction,1))\n",
    "\n",
    "\n",
    "#求准确率\n",
    "accuracy = tf.reduce_mean(tf.cast(correct_prediction,tf.float32))\n",
    "\n",
    "with tf.Session() as sess:\n",
    "    sess.run(init)\n",
    "    for epoch in range(21):\n",
    "        for batch in range(n_batch):\n",
    "            batch_xs,batch_ys= mnist.train.next_batch(batch_size)\n",
    "            sess.run(train_step,feed_dict={x:batch_xs,y:batch_ys})\n",
    "        acc = sess.run(accuracy,\n",
    "                       feed_dict={x:mnist.test.images,y:mnist.test.labels})\n",
    "        print(\"ITER\"+str(epoch)+\",Testing accuracy\"+str(acc))\n",
    "            \n",
    "            \n",
    "            \n",
    "            \n",
    "\n",
    "\n",
    "\n",
    "\n",
    "\n",
    "\n",
    "\n",
    "\n",
    "\n",
    "\n",
    "\n",
    "\n",
    "\n"
   ]
  },
  {
   "cell_type": "code",
   "execution_count": null,
   "metadata": {},
   "outputs": [],
   "source": []
  }
 ],
 "metadata": {
  "kernelspec": {
   "display_name": "Python 3",
   "language": "python",
   "name": "python3"
  },
  "language_info": {
   "codemirror_mode": {
    "name": "ipython",
    "version": 3
   },
   "file_extension": ".py",
   "mimetype": "text/x-python",
   "name": "python",
   "nbconvert_exporter": "python",
   "pygments_lexer": "ipython3",
   "version": "3.6.1"
  }
 },
 "nbformat": 4,
 "nbformat_minor": 4
}
